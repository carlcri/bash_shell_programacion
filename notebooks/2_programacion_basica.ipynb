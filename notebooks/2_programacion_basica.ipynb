{
 "cells": [
  {
   "cell_type": "markdown",
   "metadata": {},
   "source": [
    "# Programacion Shell Basica"
   ]
  },
  {
   "cell_type": "markdown",
   "metadata": {},
   "source": [
    "## Declaración de Variables y Alcance en Bash Shell\n",
    "\n",
    "Las variables permiten almacenar información de algún tipo como númerica, cadena, boolean, etc. \n",
    "\n",
    "Existen dos tipos de variables:\n",
    "\n",
    "- Usuario\n",
    "- Entorno\n",
    "\n",
    "### Variables de usuario:\n",
    "\n",
    "Creamos un nuevo *script*, donde para recupera la variable anteponemos el signo de dolar($):\n",
    "\n",
    "    # !/bin/zsh\n",
    "\n",
    "    opcion=0\n",
    "    nombre=Petro\n",
    "    echo \"Opcion: $opcion y Nombre: $nombre\"\n",
    "\n",
    "\n",
    "Ejecutemolo en modo *standalone*, seguramente tendras que modificar permisos:\n",
    "\n",
    "    ./2_z_scripts/2_variables.sh\n",
    "\n",
    "Las variables *opcion* y *nombre* no se pueden usar en otro proceso, a menos se use la palabra reservada *export*, para que la variable sea usada en otros procesos:\n",
    "\n",
    "    export nombre\n",
    "\n",
    "Y hacemos una llamada al segundo script:\n",
    "\n",
    "    ./2_vars.sh\n",
    "\n",
    "Dentro del segundo script:\n",
    "\n",
    "    echo \"variable nombre viene del script anterior: 2_variables\"\n",
    "    echo \"nombre: $nombre\"\n",
    "\n",
    "\n"
   ]
  },
  {
   "cell_type": "markdown",
   "metadata": {},
   "source": [
    "### Variables de entorno\n",
    "\n",
    "Recuerda puedes visualizar las *variables de entorno* de esta forma:\n",
    "\n",
    "    printenv\n",
    "\n",
    "Ahora, illendo a la raiz, hay un directorio llamado *etc* donde hay un archivo llamado *profile*. Vamos a ese archivo, y lo manipulamos para crear una variable de entorno a nivel de sistema operativo: todos los usuarios independiente de la cuenta, van a poder accederla.\n",
    "\n",
    "    # Variable de Entorno S.O\n",
    "    COURSE_NAME=Programacion Bash\n",
    "    export COURSE_NAME\n",
    "\n",
    "Realmente no pude hacer mas con esta variable, y el profesor no explica mayor cosa, voy a proceder a **borrarla**."
   ]
  },
  {
   "cell_type": "markdown",
   "metadata": {},
   "source": [
    "### Practicando Variables de Entorno 🤖\n",
    "\n",
    "Ir al BASH shell, y llamar una variable previamente configurada \n",
    "\n",
    "    bash\n",
    "    echo $PLATZI_MESSAGE\n",
    "\n",
    "Retornara: *Esta es una variable de entorno ir a home/.bashrc para modificarla*\n",
    "\n",
    "#### Variables de entorno en ZSH\n",
    "\n",
    "Si intentamos invocar la variable de entorno anterior, no sera posible. Configuraremos entonces *zshrc*\n",
    "\n",
    "    vim ~/.zshrc\n",
    "\n",
    "Y añadiremos esta linea, y reiniciamos la Shell\n",
    "\n",
    "    PLATZI_MESSAGE_Z=\"Esta es una variable de entorno ir a ~/.zshrc para modificarla\"\n",
    "\n",
    "    zsh\n",
    "\n",
    "Y para invocarla, igual al caso anterior.\n",
    "\n",
    "Mas informacion: https://github.com/carlcri/Intro_Terminal_L-nea_Comandos/blob/development/2_empezando_correr.ipynb"
   ]
  },
  {
   "cell_type": "markdown",
   "metadata": {},
   "source": [
    "## Tipos de Operadores\n",
    "\n",
    "Seguimos trabajando en *vim*, e se iran dando algunos tips, por ejemplo:\n",
    "1. Si quieres deshacer el ultimo cambio, presioana la tecla **ESC** y a continuacion la tecla **u**\n",
    "2. Para copiar nos aseguramos de estar en el modo normal. Y presionamos el caracter **y** dos veces. Y para pegar, con la letra **p** \n",
    "\n",
    "- Aritméticos\n",
    "- Relacionales\n",
    "- Lógicos\n",
    "- Asignación\n",
    "- Bitwise\n",
    "\n",
    "Si miras el script de la clase *3_tiposOperadores.sh* notaras algunas pequeñas diferencias. \n"
   ]
  },
  {
   "cell_type": "markdown",
   "metadata": {},
   "source": [
    "## Script con Argumentos\n",
    "\n",
    "Hay algunos identificadores para cuando ejecutamos un script con argumentos\n",
    "\n",
    "![](../images/argu.JPG)\n"
   ]
  },
  {
   "cell_type": "markdown",
   "metadata": {},
   "source": [
    "#### Ejemplo 1\n",
    "\n",
    "Creamos un nuevo script:\n",
    "\n",
    "    nombreCurso=$1\n",
    "    horarioCurso=$2\n",
    "\n",
    "    echo \"nombre del curso: $nombreCurso. Horario del curso: $horarioCurso\"\n",
    "\n",
    "Para ejecutar el mismo y que nos muestre en pantalla, debemos hacerlo asi:\n",
    "\n",
    "    ./2_z_scripts/4_argumentos.sh Programacion Sabados\n",
    "\n",
    "Y retornara: *nombre del curso: Programacion. Horario del curso: Sabados*\n",
    "\n"
   ]
  },
  {
   "cell_type": "markdown",
   "metadata": {},
   "source": [
    "#### Ejemplo 2\n",
    "\n",
    "Continuaremos modificando el script anterior para que muestre todo lo demas.\n",
    "\n",
    "    nombreCurso=$1\n",
    "    horarioCurso=$2\n",
    "\n",
    "    echo \"El nombre de este script es: $0\"\n",
    "    echo \"\\nnombre del curso: $nombreCurso. Horario del curso: $horarioCurso\"\n",
    "    echo \"el numero de argumentos enviados son: $#\"\n",
    "    echo \"\\n los parametros enviados son: $*\""
   ]
  },
  {
   "cell_type": "markdown",
   "metadata": {},
   "source": [
    "## Sustitución de Comandos en variables\n",
    "\n",
    "La idea de la sustitución de comandos en variables es almacenar la salida de una ejecución de un comando en una variable.\n",
    "\n",
    "Para la sustitución de comandos es importante tener en cuenta que el resultado servirá para realizar otras tareas de otras sentencias de nuestro programa.\n",
    "\n",
    "Las dos maneras de hacerlo:\n",
    "\n",
    "- Usando el backtick caracter. (`) **alt+96**\n",
    "- Usando el signo de dólar con el formato $(comando)"
   ]
  },
  {
   "cell_type": "markdown",
   "metadata": {},
   "source": [
    "    ubicacion=`pwd`\n",
    "    infoKernel=$(uname -a)\n",
    "\n",
    "    echo 'ubicacion actual: '$ubicacion\n",
    "    echo 'infoKernel:' $infoKernel "
   ]
  },
  {
   "cell_type": "markdown",
   "metadata": {},
   "source": [
    "Y su salida:\n",
    "\n",
    "- *ubicacion actual: /home/julian/Warehouse/anita/bash_shell_programacion*\n",
    "- *infoKernel: Linux DESKTOP-AH16HGB 4.4.0-19041-Microsoft #1237-Microsoft*"
   ]
  },
  {
   "cell_type": "markdown",
   "metadata": {},
   "source": [
    "## Debug en Script\n",
    "\n",
    "Para realizar debugging en un script tenemos dos opciones en el comando de *bash*:\n",
    "\n",
    "- v: Utilizado para ver el resultado detallado de nuestro script, evaluado línea por línea. O en otras palabras, Te muestra el script y sus valores evaluados\n",
    "- x: Utilizado para desplegar la información de los comandos que son usados, capturando el comando y su salida. O en otras palabras, Te muestra el script. valores evaluados y especifica cuales son entradas y salidas"
   ]
  },
  {
   "cell_type": "markdown",
   "metadata": {},
   "source": [
    "    bash -v ./1_bash_scripts/1_holamundo.sh\n",
    "\n",
    "    bash -x ./1_bash_scripts/1_holamundo.sh\n",
    "\n",
    "Con la Z shell fue dificil realizar la practica."
   ]
  },
  {
   "cell_type": "markdown",
   "metadata": {},
   "source": [
    "## Reto 1\n",
    "\n",
    "Desarrollar un programa llamado utilityHost.sh, dentro de él vamos a declarar dos variables una llamada *option*, otra llamada *result*, vamos a inicializarles e imprimir sus valores."
   ]
  }
 ],
 "metadata": {
  "kernelspec": {
   "display_name": "Python 3.8.10 ('env': venv)",
   "language": "python",
   "name": "python3"
  },
  "language_info": {
   "name": "python",
   "version": "3.8.10"
  },
  "orig_nbformat": 4,
  "vscode": {
   "interpreter": {
    "hash": "ee6d556d994ef8422682fd87842ca4b19f3205588d09655442a78e7500452082"
   }
  }
 },
 "nbformat": 4,
 "nbformat_minor": 2
}
