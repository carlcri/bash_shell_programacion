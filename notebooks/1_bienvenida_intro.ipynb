{
 "cells": [
  {
   "cell_type": "markdown",
   "metadata": {},
   "source": [
    "# Bienvenida e Introducion\n",
    "\n",
    "Instructor: Marco Antonio Toscano Freire\n",
    "\n",
    "https://www.matoosfe.com/\n",
    "\n",
    "https://www.youtube.com/user/matoosfe"
   ]
  },
  {
   "cell_type": "markdown",
   "metadata": {},
   "source": [
    "## Componentes de Linux, Tipos de Shell y Comandos de información\n",
    "\n",
    "Linux tiene 3 partes principales:\n",
    "\n",
    "1. Kernel: Es el núcleo del Sistema Operativo y se gestionan los recursos de hardware como la memoria, el procesamiento y los dispositivos periféricos conectados al computador.\n",
    "\n",
    "2. Shell: Es el interprete, un programa con una interfaz de usuario permitiendo ejecutar las aplicaciones en un lenguaje de alto nivel y procesarlas en un lenguaje de bajo nivel para manipular y controlar aplicaciones y programas como nuestro proyecto.\n",
    "\n",
    "3. Aplicaciones: Son las aplicaciones con las que interactuamos día a día.\n",
    "\n",
    "Tipos de Shells:\n",
    "\n",
    "- SH\n",
    "\n",
    "- KSH\n",
    "\n",
    "- CSH\n",
    "\n",
    "- BASH\n",
    "\n",
    "Algunos comandos para conocer información sobre el resto de comandos:\n",
    "\n",
    "- man [comando]\n",
    "\n",
    "- info [comando]\n"
   ]
  },
  {
   "cell_type": "markdown",
   "metadata": {},
   "source": [
    "## Bash Scripting\n",
    "\n",
    "La idea básica de generar programas en bash es poder ejecutar múltiples comandos de forma secuencial en muchas ocasiones para automatizar una tarea en especifico. Estos comandos son colocados en un archivo de textos de manera secuencial para poder ejecutarlos a posterioridad.\n",
    "\n",
    "Un archivo *.vimrc* podremos configurar de mejor manera nuestro editor VIM.\n",
    "\n",
    "    vim ~/.vimrc\n",
    "\n",
    "Y dentro del archivo:\n",
    "\n",
    "    set showmode\n",
    "    set autoindent\n",
    "    set tabstop=4\n",
    "    set expandtab\n",
    "    syntax on\n",
    "\n",
    "Verifiquemos que el archivo este creado:\n",
    "\n",
    "    ls -la ~ | less\n",
    "\n",
    "Si quieres saber mas como configurar este archivo:\n",
    "\n",
    "https://vimconfig.com/"
   ]
  },
  {
   "cell_type": "markdown",
   "metadata": {},
   "source": [
    "## Crear nuestro primer Script - Hola Mundo\n",
    "\n",
    "Los scripts de *Bash* iran en un folder aparte de los *Z scripts* en la raiz del proyecto. \n",
    "\n",
    "- los scripts deben terminar en *.sh*\n",
    "- echo imprime en pantalla\n",
    "\n",
    "## Ejecutar nuestro script con un nombre único\n",
    "\n",
    "Importante revisar los permisos, recuerda puedas modificarlos con el comando *chmod*\n",
    "\n",
    "**Opciones para ejecutar:**\n",
    "\n",
    "1. Usando el comando *bash* \n",
    "\n",
    "    bash 1_bash_scripts/1_holamundo.sh\n",
    "\n",
    "2. Modo Standalone\n",
    "\n",
    "    ./2_z_scripts/1_holamundo.sh\n",
    "\n",
    "### Comando type:\n",
    "\n",
    "que tipo de comando es, si es un alias, un binario como *mkdir*, a *shell builtin* como  *cd*, un programa ejecutable\n",
    "\n",
    "Para que no colocar nombres de mis propios scripts que entren en conflicto con alguna palabra reservada, o en general alguna configuracion previa. \n",
    "\n",
    "El comando tiene varias opciones:\n",
    "\n",
    "    type -a \n",
    "\n",
    "    type -t"
   ]
  }
 ],
 "metadata": {
  "kernelspec": {
   "display_name": "Python 3.8.10 ('env': venv)",
   "language": "python",
   "name": "python3"
  },
  "language_info": {
   "name": "python",
   "version": "3.8.10"
  },
  "orig_nbformat": 4,
  "vscode": {
   "interpreter": {
    "hash": "ee6d556d994ef8422682fd87842ca4b19f3205588d09655442a78e7500452082"
   }
  }
 },
 "nbformat": 4,
 "nbformat_minor": 2
}
