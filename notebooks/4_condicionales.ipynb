{
 "cells": [
  {
   "cell_type": "markdown",
   "metadata": {},
   "source": [
    "# Condicionales\n",
    "\n",
    "Busca los scritps que empiezan por 11_"
   ]
  },
  {
   "cell_type": "markdown",
   "metadata": {},
   "source": [
    "## Sentencias If/Else\n",
    "\n",
    "Fijate muy bien en los espacios que hay entre la condicion y los corchetes cuadrados\n",
    "\n",
    "![](../images/ifelse.JPG)\n",
    "\n",
    "Recuerda puedes entra el modo de bloque con *CRLT+v*. \n",
    "\n",
    "### Ejemplo 1. Validar la nota de un estudiante.\n",
    "\n",
    "Tal y como lo hicimos con *expresiones regulares*, validamos si la nota es valida o no:\n",
    "\n",
    "    regexgrade='^([1-9]{1})$'\n",
    "\n",
    "    read -p \"what is your grade? \" grade\n",
    "\n",
    "    # validating age\n",
    "    if [[ $grade =~ $regexgrade ]]; then\n",
    "        echo \"valid grade\" | lolcat\n",
    "    else\n",
    "        echo \"invalid grade\"\n",
    "    fi\n"
   ]
  },
  {
   "cell_type": "markdown",
   "metadata": {},
   "source": [
    "\n",
    "### Ejemplo 2. Con base en el ejemplo anterior, validar si el alumno paso o no\n",
    "\n",
    "    read -p \"what is your grade? \" grade\n",
    "\n",
    "    if [[ $grade =~ $regexgrade ]]; then\n",
    "        if (( $grade >=7 )); then\n",
    "            echo \"Congratulations, you have aproved\" | lolcat\n",
    "        else\n",
    "            echo \"Sorry, You need to try again\"\n",
    "        fi\n",
    "    else\n",
    "        echo \"invalid grade\"\n",
    "    fi\n",
    "\n",
    "Algunas observaciones:\n",
    "\n",
    "- a pesar de la sencillez aparente, la parte que valida la expresion regular toco colocarla necesariamente en partentesisi cuadrados\n",
    "- la parte que valida si es mayor o igual a 7 toco colocarla en parentesis normales. De otra forma generaba bugs o errores.\n",
    "\n",
    "Y a continuacion vamos a ver porque:\n",
    "\n",
    "**Cuando uses llaves cuadradas tienes que usar operadores relacionales** 🤠"
   ]
  },
  {
   "cell_type": "markdown",
   "metadata": {},
   "source": [
    "### OPERADORES RELACIONALES\n",
    "\n",
    "- eq: is equal to \n",
    "- ne: is not equal to \n",
    "- gt: is greater than \n",
    "- ge: is greater than or equal to \n",
    "- lt: is less than \n",
    "- le: is less than or equal to "
   ]
  },
  {
   "cell_type": "markdown",
   "metadata": {},
   "source": [
    "### Ejemplo 3. Construir un script que valide si una persona es adulta, adolecente o senior con operadores relacionales \n",
    "\n",
    "    regexedad='^([1-9]{1,2})$'\n",
    "\n",
    "    read -p \"How old are you: \" edad\n",
    "\n",
    "    if [[ $edad =~ $regexedad ]]; then\n",
    "        if [ $edad -ge 64 ]; then\n",
    "            echo \"You are a senior\" | lolcat\n",
    "        elif [ $edad -ge 18 ]; then\n",
    "            echo \"You are an adult\" | lolcat\n",
    "        else\n",
    "            echo \"You are a teenager\" | lolcat\n",
    "        fi\n",
    "    else\n",
    "        echo \"Sorry, invalid age\"\n",
    "    fi\n",
    "\n",
    "Para seguir disfrutando de las bondades de ZSH y correr el script como si fuera un *bash*; anteponemos el comando del mismo nombre dentro de nuestra Z shell:\n",
    "\n",
    "    bash 1_bash_scripts/11_ifElse.sh\n",
    "\n"
   ]
  },
  {
   "cell_type": "markdown",
   "metadata": {},
   "source": [
    "## Ejemplo 4\n",
    "\n",
    "Usa la sentencia *elif* para validar la edad y con doble condicional(&&) AND\n",
    "\n",
    "    edad=0\n",
    "\n",
    "    echo \"Ejemplo Sentencia If -else\"\n",
    "    read -p \"Indique cúal es su edad:\" edad\n",
    "    if [ $edad -le 18 ]; then\n",
    "        echo \"La persona es adolescente\"\n",
    "    elif [ $edad -ge 19 ] && [ $edad -le 64 ]; then\n",
    "        echo \"La persona es adulta\"\n",
    "    else\n",
    "        echo \"La persona es adulto mayor\"\n",
    "    fi"
   ]
  },
  {
   "cell_type": "markdown",
   "metadata": {},
   "source": [
    "#### Lectura Recomendada\n",
    "\n",
    "https://stackoverflow.com/questions/13542832/difference-between-single-and-double-square-brackets-in-bash/31366734#31366734"
   ]
  },
  {
   "cell_type": "markdown",
   "metadata": {},
   "source": [
    "## IFs Anidados\n",
    "\n",
    "el scritp que comienza por *12_*\n",
    "\n",
    "Con base a la nota que saque un estudiante, se le preguntara si quiere o no continuar con la materia\n"
   ]
  },
  {
   "cell_type": "markdown",
   "metadata": {},
   "source": [
    "    regexgrade='^([0-9]{1})$'\n",
    "\n",
    "    read -p \"what is your grade? \" grade\n",
    "\n",
    "    # validating age\n",
    "    if [[ $grade =~ $regexgrade ]]; then\n",
    "        if [ $grade -ge 7 ] ; then\n",
    "            echo \"Congratulations, you have aproved\" | lolcat\n",
    "            read -p \"Do you want to continue(y/n)?\" option\n",
    "\n",
    "            if [ $option == \"y\" ]; then\n",
    "                echo \"welcome to the level 2\" | cowsay\n",
    "            else\n",
    "                echo \"you can try later\"\n",
    "            fi\n",
    "\n",
    "        else\n",
    "            echo \"Sorry, You need to try again\"\n",
    "        fi\n",
    "    else\n",
    "        echo \"invalid grade\"\n",
    "    fi"
   ]
  },
  {
   "cell_type": "markdown",
   "metadata": {},
   "source": [
    "## Expresiones Condicionales"
   ]
  },
  {
   "cell_type": "markdown",
   "metadata": {},
   "source": [
    "Las expresiones condicionales ya las hemos visto en clases anteriores, pero en qué corresponde y cómo se forman las veremos en esta clase. Estás son las siguientes\n",
    "\n",
    "- Utilizada en decisión, iteración.\n",
    "- Formada por una o más condiciones\n",
    "- Condiciones con tipos de datos diferentes\n",
    "- Utiliza los operadores relacionales y condicionales\n",
    "\n",
    "Buscar el scrip que comienza por **13_**"
   ]
  },
  {
   "cell_type": "markdown",
   "metadata": {},
   "source": [
    "### Expresiones condicionales con cadenas\n",
    "\n",
    "A pesar de la sencillez del siguiente script, tuve muchos inconvenientes para ejecutarlo por la candidad de bugs, generados principalmente por:\n",
    "\n",
    "- no admite la opcion de read con -n\n",
    "- no admite el simbolo == para comparar cadenas\n",
    "- [ $animal = \"d\" ], ojo con los espacios, tiene que ser tal cual estos\n",
    "\n",
    "\n",
    "        read -p \"Choose your animal: e(lepanth) (s)pider (c)ocodrile (d)og: \" animal\n",
    "\n",
    "        if [ $animal = \"d\" ] || [ $animal = \"e\" ]; then\n",
    "            echo -e \"\\nIt is a mammal\"\n",
    "        else\n",
    "            echo \"It is not a mammal\"\n",
    "        fi"
   ]
  },
  {
   "cell_type": "markdown",
   "metadata": {},
   "source": [
    "### Expresiones condicionales con numeros\n",
    "\n",
    "Para el ejercicio usaremos operadores relacionales para crear un flujo que determine si hay o no que declarar renta.\n",
    "\n",
    "    echo \"Expresiones condicionales con numeros\"\n",
    "    read -p \"What is your anual gross income \" income\n",
    "    read -p \"What is your State \" state\n",
    "\n",
    "    if [ $income -ge 100 ] || [ $state -ge 1000 ]; then\n",
    "        echo -e \"\\nYou have to declare\" \n",
    "    else\n",
    "        echo -e \"\\n Do not need to worry\"\n",
    "    fi"
   ]
  },
  {
   "cell_type": "markdown",
   "metadata": {},
   "source": [
    "### Expresiones condicionles con directorios\n",
    "\n",
    "Verificar que existe un directorio con el argumento **-d**. \n",
    "\n",
    "    echo \"Expresiones condicionales con directorios\"\n",
    "    read -p \"which is the path: \" filePath\n",
    "\n",
    "    if [ -d $filePath ]; then\n",
    "        echo -e \"\\nThe directory $filePath exists\"\n",
    "    else\n",
    "        echo -e \"\\nError try again\"\n",
    "    fi\n",
    "\n"
   ]
  },
  {
   "cell_type": "markdown",
   "metadata": {},
   "source": [
    "Puedes probar este ultimo ingresando tu directorio actual:\n",
    "\n",
    "    /home/julian/Warehouse/anita/bash_shell_programacion"
   ]
  },
  {
   "cell_type": "markdown",
   "metadata": {},
   "source": [
    "### Expresiones condicionales con archivos\n",
    "\n",
    "Para verificar que existe un archivo, usaremos el argumento **-f**\n",
    "\n",
    "    if [ -f $filePath ]; then\n",
    "        echo -e \"\\nThe file: $filePath exists\"\n",
    "    else\n",
    "        echo -e \"\\nError try again\"\n",
    "    fi\n",
    "\n",
    "Y verificaremos que existe el archivo oculto *zshrc*, y cuando solicite el nombre del archivo:\n",
    "\n",
    "    /home/julian/.zshrc\n",
    "\n",
    "\n",
    "\n",
    "Mas informacion:\n",
    "\n",
    "https://linuxize.com/post/bash-check-if-file-exists/\n"
   ]
  },
  {
   "cell_type": "markdown",
   "metadata": {},
   "source": [
    "## Practica Modificar el script para mover los archivos.\n",
    "\n",
    "\n",
    "Mientras desarrollaba este script, me tome con cosas interesantes. Supongamos queremos guardar el tamaño del archivo *move_files.sh* y guardar el resultado en una variable.\n",
    "\n",
    "    ls -lh move_files.sh | awk '{print $5}'\n",
    "\n",
    "Podemos manipular las columnas con el comando *awk* que es un poco avanzado, pero en este caso, se entiende que nos ayuda a extraer el valor de la columna 5 que contiene el tamaño."
   ]
  },
  {
   "cell_type": "markdown",
   "metadata": {},
   "source": [
    "De la misma forma, usamos otro comando para averiguar el tamaño del directorio actual\n",
    "\n",
    "    du -sh .\n",
    "\n",
    "s - Display only the total size of the specified directory, do not display file size totals for subdirectories.\n",
    "\n",
    "h - Print sizes in a human-readable format (h).\n",
    "\n",
    "Y como solo nos interesa el tamaño, lo complementamos con el comando *awk*, guardandolo en una variable\n",
    "\n",
    "    size_=`du -sh $FILE | awk '{print $1}'`"
   ]
  },
  {
   "cell_type": "markdown",
   "metadata": {},
   "source": [
    "#### Codigo completo:\n",
    "\n",
    "    # !/bin/zsh\n",
    "    FILE=/mnt/c/Users/el_ju/Downloads/UbUNTU\n",
    "\n",
    "    if [ -d \"$FILE\" ]; then\n",
    "        echo \"$FILE is a directory\"\n",
    "        ls -la $FILE | sort -n\n",
    "        size_=`du -sh $FILE | awk '{print $1}'`\n",
    "\n",
    "        if [ $size_ != \"0\" ]; then\n",
    "            echo -e \"\\nsize files to be moved: $size_\"\n",
    "            mv /mnt/c/Users/el_ju/Downloads/UBUNTU/*.* ./images/ &&  echo 'Files Moved' | lolcat\n",
    "        else\n",
    "            echo \"directory is empty\"\n",
    "        fi\n",
    "\n",
    "    else\n",
    "        echo \"There is not such directory\"\n",
    "    fi"
   ]
  },
  {
   "cell_type": "markdown",
   "metadata": {},
   "source": [
    "## Sentencias Case\n",
    "\n",
    "El script que empieza por *14_*\n",
    "\n",
    "En la sentencia Case el objetivo principal es validar una expresión simple, puede ser un número, una cadena o un rango de valores\n",
    "\n",
    "El usuario ingresara opciones de la A a la Z, note son mayusculas. Tambien se usa la palabra reservada *esac* para terminar el *case*. Se envia el nombre como el primer argumento\n",
    "\n",
    "Lo primero es que al ingresar el nombre siempre va a capitalizar la primera letra:\n",
    "\n",
    "    name=$1\n",
    "    echo \"Bienvenido ${name^^}\"\n",
    "\n",
    "Si queremos capitalizar toda la cadena, entonces usamos dobles sombrerito\n",
    "\n",
    "    echo \"Bienvenido ${name^^}\"\n",
    "\n",
    "Y ahora si la implementacion del *case*:\n",
    "\n",
    "    case ${option^} in\n",
    "        \"A\") echo -e \"\\n guardar archivo\";;\n",
    "        \"B\") echo -e \"\\n eliminar archivo\";;\n",
    "        \"C\") echo -e \"\\n modificar archivo\";;\n",
    "        [D-F]) echo -e \"\\n no esta implementada la operacion\";;\n",
    "        *) echo \"opcion incorrecta\"\n",
    "    esac\n",
    "\n",
    "Para ejecutar, simplemente:\n",
    "\n",
    "    bash ./1_bash_scripts/14_case.sh \"gustavo petro\"\n"
   ]
  }
 ],
 "metadata": {
  "kernelspec": {
   "display_name": "Python 3.8.10 ('env': venv)",
   "language": "python",
   "name": "python3"
  },
  "language_info": {
   "name": "python",
   "version": "3.8.10"
  },
  "orig_nbformat": 4,
  "vscode": {
   "interpreter": {
    "hash": "ee6d556d994ef8422682fd87842ca4b19f3205588d09655442a78e7500452082"
   }
  }
 },
 "nbformat": 4,
 "nbformat_minor": 2
}
