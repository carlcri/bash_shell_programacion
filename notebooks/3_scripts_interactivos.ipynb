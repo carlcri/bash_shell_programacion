{
 "cells": [
  {
   "cell_type": "markdown",
   "metadata": {},
   "source": [
    "# Scripts interactivos"
   ]
  },
  {
   "cell_type": "markdown",
   "metadata": {},
   "source": [
    "## Capturar información usuario\n",
    "\n",
    "![](../images/capt.JPG)"
   ]
  },
  {
   "cell_type": "markdown",
   "metadata": {},
   "source": [
    "#### EL primero sera *6_readEcho.sh*:\n",
    "\n",
    "    option=0\n",
    "    backupName=\"\"\n",
    "\n",
    "    echo \"Programa Utilidades Postgres\"\n",
    "    echo -n \"Ingresar una opción:\"\n",
    "    read\n",
    "    option=$REPLY\n",
    "    echo -n \"Ingresar el nombre del archivo del backup:\"\n",
    "    read\n",
    "    backupName=$REPLY\n",
    "    echo \"Opción:$option , backupName:$backupName\"\n",
    "\n",
    "Este script funciono solamente en *bash*\n",
    "\n",
    "#### EL segundo sera *7_read.sh*\n",
    "\n",
    "    nombre=\"\"\n",
    "    opcion=0\n",
    "\n",
    "    read -p \"Ingresa tu nombre: \" nombre\n",
    "    echo 'Bienvenido' $nombre\n",
    "\n",
    "    read -p 'ingresa una opcion: ' opcion\n",
    "    echo 'opcion:' $opcion\n",
    "\n",
    "Que funciono tanto en BASH como en ZSH. Recuerda estamo ejecutando los scripts en modos standalone\n",
    "\n",
    "Unas de las opciones más utilizadas para Read:\n",
    "\n",
    "- p: Permite ingresar una frase o prompt antes de pedir el dato.\n",
    "- s: Modo Sigiloso. No muestra ningún caracter en la terminal, util para contraseñas o información sensible."
   ]
  },
  {
   "cell_type": "markdown",
   "metadata": {},
   "source": [
    "## Expresiones Regulares\n",
    "\n",
    "Cuando se solicita ingresar información través de un programa por parte del usuario que está utilizando el programa, independientemente el lenguaje que esté realizado; es importante considerar la validación de la información no solo en su tamaño sino también en los tipos de datos, formatos soportados lo cual nos permite asegurar la calidad de la información que recibimos, almacenamos y procesamos.\n",
    "\n",
    "Dentro de este contexto en la programación bash para cumplir con este objetivo se utiliza expresiones regulares, las cuales son básicamente cadenas de caracteres que definen un patrón de búsqueda que se valida frente a una información específica para asegurar que cumple la validación definida.\n",
    "\n",
    "Se necesita conocer ciertos criterios utilizados en las expresiones regulares que son los siguientes:\n",
    "\n",
    "![](../images/regy.JPG)"
   ]
  },
  {
   "cell_type": "markdown",
   "metadata": {},
   "source": [
    "Tomando en cuenta estos criterios se realizará un programa que valida la siguiente información:\n",
    "- Número de Identificación de un tamaño de 10 números. Ejemplo: 1717836520\n",
    "- País de Origen denotado por dos letras en un rango específico. Ejemplo: EC, CO, US\n",
    "- Fecha de Nacimiento en el formato yyyyMMDD. Ejemplo: 20181222\n",
    "\n",
    "Primero se definirá las expresiones regulares y se solicitará la información del usuario\n",
    "\n",
    "![](../images/ere.jpg)"
   ]
  },
  {
   "cell_type": "markdown",
   "metadata": {},
   "source": [
    "## Ejemplo 1.\n",
    "\n",
    "Crear una expresion regulara para que valide la edad: que la edad solo tenga dos digitos\n",
    "\n",
    "    regexedad='^([1-9]{1,2})$'\n",
    "\n",
    "    read -p \"Ingrese su edad: \" edad\n",
    "    echo \"edad: $edad\"\n",
    "\n",
    "    if [[ $edad =~ $regexedad ]]; then\n",
    "        echo \"edad valida\"\n",
    "    else\n",
    "        echo \"edad invalida\"\n",
    "    fi\n",
    "\n",
    "No obstante, el script anterior tiene un bag, que si la edad es multiplo de 10, dira que es *invalida* 👽\n"
   ]
  },
  {
   "cell_type": "markdown",
   "metadata": {},
   "source": [
    "\n",
    "## Ejemplo 2\n",
    "\n",
    "Crear una expresion regular para que valide el nombre\n",
    "\n",
    "    regexnombre='^([A-z]{2,})$'\n",
    "    if [[ $nombre =~ $regexnombre ]]; then\n",
    "        echo \"valid name\"\n",
    "    else\n",
    "        echo \"invalidi name\"\n",
    "    fi\n",
    "    "
   ]
  },
  {
   "cell_type": "markdown",
   "metadata": {},
   "source": [
    "## Validar informacion\n",
    "\n",
    "Para el proceso de validación de información tenemos dos maneras de hacerlo:\n",
    "\n",
    "- Para validar tamaños se utiliza el siguiente comando: read -n <numero_caracteres>\n",
    "- Para validar el tipo de datos se utilizan las expresiones regulares\n",
    "\n",
    "### En BASH\n",
    "\n",
    "Con la opcion -n le indicamos la cantidad de caracteres, en este caso solo un caracter:\n",
    "\n",
    "    read -n1 -p 'ingresa una opcion: ' opcion\n",
    "\n",
    "Se validara el ingreso de un password, en modo sigiloso(*s*) y que solamente acepte cuatro caracteres:\n",
    "\n",
    "        password=\"\"\n",
    "        ...\n",
    "        ...\n",
    "        read -s -n4 -p \"ingresa tu contraseña(4 caracteres)\" password\n",
    "\n",
    "Notaras tambien que no fue necesario declarar las variables, sino solo hacerlo en el momento justo cuando se estaban leyendo.\n",
    "\n",
    "#### En ZSH\n",
    "\n",
    "No se pudo realizar la practica\n"
   ]
  },
  {
   "cell_type": "markdown",
   "metadata": {},
   "source": [
    "## Paso de parámetros y opciones\n",
    "\n",
    "- Opciones vs Parámetros\n",
    "- Envío Independiente\n",
    "- Envío Complementario\n",
    "- Leer los valores\n",
    "\n",
    "De la misma forma como teniamos scripts con argunmentos, mostramos la primera parte:\n",
    "\n",
    "        echo \"Programa Opciones\"\n",
    "        echo \"Opción 1 enviada: $1\"\n",
    "        echo \"Opción 2 enviada: $2\"\n",
    "        echo \"Todas las opciones: $*\"\n",
    "        echo \"Numero de opciones: $#\"\n",
    "\n",
    "Tenemos nuestra entrada (standard input?)\n",
    "\n",
    "        ./2_z_scripts/9_options.sh gato perro loro\n",
    "\n",
    "Y nuestra salida(standard output?)\n",
    "\n",
    "        Programa Opciones\n",
    "        Opción 1 enviada: gato\n",
    "        Opción 2 enviada: perro\n",
    "        Todas las opciones: gato perro loro\n",
    "        Numero de opciones: 3"
   ]
  },
  {
   "cell_type": "markdown",
   "metadata": {},
   "source": [
    "Aunque haremos uso de algunas estructuras que no hemos visto, tal y como son los *while* entre otros, lo importante es poder distinguir cuando se trata de una opcion y cuando de un parametro:\n",
    "\n",
    "¿Cual es la diferencia entre un parametro y una opcion? la opcion es un valor precedido por el signo menos **-**\n",
    "\n",
    "Tenemos nuestra entrada (standard input?)\n",
    "\n",
    "        ./2_z_scripts/9_options.sh gato -a -b perro\n",
    "\n",
    "Y nuestra salida(standard output?)\n",
    "\n",
    "    Recuperar valores\n",
    "    no es una opción\n",
    "    -a option utilizada\n",
    "    -b option utilizada\n",
    "    no es una opción"
   ]
  },
  {
   "cell_type": "markdown",
   "metadata": {},
   "source": [
    "Como ves es capaz de distinguir entre un parametro y una opcion. Siendo *gato* y *perro* parametros, y -a y -b opciones"
   ]
  }
 ],
 "metadata": {
  "kernelspec": {
   "display_name": "Python 3.8.10 ('env': venv)",
   "language": "python",
   "name": "python3"
  },
  "language_info": {
   "name": "python",
   "version": "3.8.10"
  },
  "orig_nbformat": 4,
  "vscode": {
   "interpreter": {
    "hash": "ee6d556d994ef8422682fd87842ca4b19f3205588d09655442a78e7500452082"
   }
  }
 },
 "nbformat": 4,
 "nbformat_minor": 2
}
